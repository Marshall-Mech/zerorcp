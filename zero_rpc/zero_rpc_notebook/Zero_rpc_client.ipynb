{
 "cells": [
  {
   "cell_type": "markdown",
   "metadata": {},
   "source": [
    "# Install zerorcp if not installed"
   ]
  },
  {
   "cell_type": "code",
   "execution_count": 1,
   "metadata": {},
   "outputs": [],
   "source": [
    "#!pip install zerorpc"
   ]
  },
  {
   "cell_type": "markdown",
   "metadata": {},
   "source": [
    "# Import necessary libraries"
   ]
  },
  {
   "cell_type": "code",
   "execution_count": 2,
   "metadata": {},
   "outputs": [],
   "source": [
    "import zerorpc\n",
    "import time\n",
    "import random"
   ]
  },
  {
   "cell_type": "markdown",
   "metadata": {},
   "source": [
    "# Receive 1 message"
   ]
  },
  {
   "cell_type": "code",
   "execution_count": 3,
   "metadata": {},
   "outputs": [
    {
     "name": "stdout",
     "output_type": "stream",
     "text": [
      "At 1601409289.975882 client sent a message.\n",
      "Server received:1601409289.975882 from client and sent back at 1601409289.9915059 which takes 0.015623807907104492\n",
      "\n"
     ]
    }
   ],
   "source": [
    "c = zerorpc.Client()\n",
    "c.connect(\"tcp://127.0.0.1:4242\")\n",
    "print(f'At {time.time()} client sent a message.\\n{c.hello(time.time())}\\n')"
   ]
  },
  {
   "cell_type": "markdown",
   "metadata": {},
   "source": [
    "# Receive 10 messages"
   ]
  },
  {
   "cell_type": "code",
   "execution_count": 4,
   "metadata": {},
   "outputs": [
    {
     "name": "stdout",
     "output_type": "stream",
     "text": [
      "1)At 1601409290.1386318 client sent a message.\n",
      "Server received:1601409290.1386318 from client and sent back at 1601409290.1386318 which takes 0.0\n",
      "\n",
      "2)At 1601409290.1386318 client sent a message.\n",
      "Server received:1601409290.1386318 from client and sent back at 1601409290.1386318 which takes 0.0\n",
      "\n",
      "3)At 1601409290.1542807 client sent a message.\n",
      "Server received:1601409290.1542807 from client and sent back at 1601409290.1542807 which takes 0.0\n",
      "\n",
      "4)At 1601409290.1607873 client sent a message.\n",
      "Server received:1601409290.1607873 from client and sent back at 1601409290.1607873 which takes 0.0\n",
      "\n",
      "5)At 1601409290.1607873 client sent a message.\n",
      "Server received:1601409290.1607873 from client and sent back at 1601409290.1607873 which takes 0.0\n",
      "\n",
      "6)At 1601409290.1764174 client sent a message.\n",
      "Server received:1601409290.1764174 from client and sent back at 1601409290.1764174 which takes 0.0\n",
      "\n",
      "7)At 1601409290.1764174 client sent a message.\n",
      "Server received:1601409290.1764174 from client and sent back at 1601409290.1764174 which takes 0.0\n",
      "\n",
      "8)At 1601409290.1920412 client sent a message.\n",
      "Server received:1601409290.1920412 from client and sent back at 1601409290.1920412 which takes 0.0\n",
      "\n",
      "9)At 1601409290.1920412 client sent a message.\n",
      "Server received:1601409290.1920412 from client and sent back at 1601409290.2076662 which takes 0.015625\n",
      "\n",
      "10)At 1601409290.2076662 client sent a message.\n",
      "Server received:1601409290.2076662 from client and sent back at 1601409290.2076662 which takes 0.0\n",
      "\n"
     ]
    }
   ],
   "source": [
    "for i in range(10):\n",
    "    c = zerorpc.Client()\n",
    "    c.connect(\"tcp://127.0.0.1:4242\")\n",
    "    print(f'{i+1})At {time.time()} client sent a message.\\n{c.hello(time.time())}\\n')"
   ]
  },
  {
   "cell_type": "markdown",
   "metadata": {},
   "source": [
    "For further types of messages streams, go to [zerorpc](http://www.zerorpc.io/)"
   ]
  },
  {
   "cell_type": "code",
   "execution_count": null,
   "metadata": {},
   "outputs": [],
   "source": []
  }
 ],
 "metadata": {
  "kernelspec": {
   "display_name": "Python 3",
   "language": "python",
   "name": "python3"
  },
  "language_info": {
   "codemirror_mode": {
    "name": "ipython",
    "version": 3
   },
   "file_extension": ".py",
   "mimetype": "text/x-python",
   "name": "python",
   "nbconvert_exporter": "python",
   "pygments_lexer": "ipython3",
   "version": "3.7.6"
  },
  "varInspector": {
   "cols": {
    "lenName": 16,
    "lenType": 16,
    "lenVar": 40
   },
   "kernels_config": {
    "python": {
     "delete_cmd_postfix": "",
     "delete_cmd_prefix": "del ",
     "library": "var_list.py",
     "varRefreshCmd": "print(var_dic_list())"
    },
    "r": {
     "delete_cmd_postfix": ") ",
     "delete_cmd_prefix": "rm(",
     "library": "var_list.r",
     "varRefreshCmd": "cat(var_dic_list()) "
    }
   },
   "types_to_exclude": [
    "module",
    "function",
    "builtin_function_or_method",
    "instance",
    "_Feature"
   ],
   "window_display": false
  }
 },
 "nbformat": 4,
 "nbformat_minor": 4
}
